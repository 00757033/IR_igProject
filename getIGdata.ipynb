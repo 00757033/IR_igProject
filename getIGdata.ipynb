{
  "nbformat": 4,
  "nbformat_minor": 0,
  "metadata": {
    "colab": {
      "name": "getIGdata.ipynb",
      "provenance": [],
      "collapsed_sections": [],
      "include_colab_link": true
    },
    "kernelspec": {
      "name": "python3",
      "display_name": "Python 3"
    },
    "language_info": {
      "name": "python"
    }
  },
  "cells": [
    {
      "cell_type": "markdown",
      "metadata": {
        "id": "view-in-github",
        "colab_type": "text"
      },
      "source": [
        "<a href=\"https://colab.research.google.com/github/00757033/IR_igProject/blob/main/getIGdata.ipynb\" target=\"_parent\"><img src=\"https://colab.research.google.com/assets/colab-badge.svg\" alt=\"Open In Colab\"/></a>"
      ]
    },
    {
      "cell_type": "code",
      "metadata": {
        "colab": {
          "base_uri": "https://localhost:8080/"
        },
        "id": "adhGKav5bCcr",
        "outputId": "96000171-7891-4557-93b5-354f4613290a"
      },
      "source": [
        "import json\n",
        "import requests\n",
        "\n",
        "users= list()\n",
        "posts= list()\n",
        "account_list= ['carolinegirvan','bootycorgis','kobebryant','threecorgis','milperthusky','mrbentley_thedog',\n",
        "        'paulnicklen','theellenfund','penguinstothepeople','scott.portelli','jayclue',\n",
        "        'growingannanas','rix.official','progressive_calisthenics','kingjames',\n",
        "        'stephencurry30','russwest44','danny_macaskill','samkolder','obrissy']\n",
        "account_list.extend(['mohitknack','claire_desjardins_art','wildnove_watercolor','ellendevitafineart',\n",
        "          'mesabree','madelynthemaker','design.o.art','thattorih','beddigraphy',\n",
        "          'aandfs.studio','kicsneb.arts','vanossinstagram','wildcat_official','daithiden0gla',\n",
        "          'selenityy','brawlstars_emp','snaxgaming','ig_jonathangaming','scoutop','ig_mortal'])\n",
        "account_list.extend(['cnn','nasa','bbcnews','ted','tededucation','jerryscience','astrodaily1',\n",
        "          'cosmosopedia','spacex.club','everything.astronomy','thecosmicdivers_',\n",
        "          'thedailygalactic','brandoncorder','galeriolahragastore','veganiina',\n",
        "          'picklesandwine','re.coomiendo','thewoksoflife','drinkingwithkomo',\n",
        "          'shesalreadybooked','natgeo','natgeotravel'])\n",
        "\n",
        "len(account_list)"
      ],
      "execution_count": null,
      "outputs": [
        {
          "output_type": "execute_result",
          "data": {
            "text/plain": [
              "62"
            ]
          },
          "metadata": {
            "tags": []
          },
          "execution_count": 1
        }
      ]
    },
    {
      "cell_type": "code",
      "metadata": {
        "id": "z7r76VLuzuqH"
      },
      "source": [
        "# postSum= 0\n",
        "def getData(account): \n",
        "  url= 'https://www.instagram.com/'+ account+ '/?__a=1'\n",
        "  cookies= {'sessionid': '1560442426%3Ap4W9r8WsBfbXf7%3A23'} # 複製cookie，修改sessionid \n",
        "  res_data= requests.get(url, cookies= cookies).content\n",
        "  data= json.loads(res_data)\n",
        "\n",
        "  print('\\n-',account)\n",
        "  userData= data['graphql']['user']\n",
        "  postsCount= userData['edge_owner_to_timeline_media']['count'] # 總貼文數\n",
        "\n",
        "  user= dict()\n",
        "  user['username']= userData['username'] # 使用者帳號\n",
        "  user['biography']= userData['biography'] # 自我介紹\n",
        "  user['followedCount']= userData['edge_followed_by']['count'] # 粉絲人數\n",
        "  userid= userData['id']\n",
        "  users.append(user)\n",
        "  # postSum+= postsCount\n",
        "  print('有', postsCount, '則')\n",
        "\n",
        "  check= True\n",
        "  endCursor= ''\n",
        "  nowww= 12\n",
        "  media= data['graphql']['user']['edge_owner_to_timeline_media']\n",
        "  first= 50\n",
        "\n",
        "  while check:\n",
        "    if endCursor!= '': # 不是第一頁貼文，要重新request\n",
        "      url= 'https://www.instagram.com/graphql/query/?query_id=17888483320059182&id='+ str(userid)+ '&first='+ str(first)+'&after='+ endCursor\n",
        "      # first是希望返回的照片數量\n",
        "      # cookies= {'sessionid': '1560442426%3A1SvcFb6x3RoL0f%3A27'}\n",
        "      res_data= requests.get(url, cookies= cookies).content\n",
        "      data= json.loads(res_data)\n",
        "      if data['status']!= 'ok': # fail\n",
        "        print(data['status'])\n",
        "        break\n",
        "      nowww+= first\n",
        "      media= data['data']['user']['edge_owner_to_timeline_media']\n",
        "    \n",
        "    edges= media['edges'] # 一頁12篇貼文\n",
        "    for edge in edges:\n",
        "      if not edge['node']['edge_media_to_caption']['edges'] :\n",
        "        print('edge is Null')\n",
        "        continue\n",
        "\n",
        "      # message= edge['node']['edge_media_to_comment']['count'] # 圖片貼文留言數\n",
        "      post= dict()\n",
        "      post['username']= userData['username']\n",
        "      # post['likeCount']= edge['node']['edge_liked_by']['count'] # 貼文按讚數\n",
        "      post['text']= edge['node']['edge_media_to_caption']['edges'][0]['node']['text'] # 貼文內容\n",
        "      post['timestamp']= edge['node']['taken_at_timestamp'] # 貼文時間\n",
        "      posts.append(post)\n",
        "    \n",
        "    print('(', nowww, ',', len(posts), ')', end= ', ')\n",
        "    if nowww> 1000:\n",
        "      break\n",
        "\n",
        "    # 是否有下一頁文章\n",
        "    page_info= media['page_info']\n",
        "    check= page_info['has_next_page']\n",
        "    \n",
        "    if check == True:\n",
        "      endCursor= page_info['end_cursor']"
      ],
      "execution_count": null,
      "outputs": []
    },
    {
      "cell_type": "code",
      "metadata": {
        "id": "IYtbZFkAgugl"
      },
      "source": [
        "'carolinegirvan' 122\n",
        "'bootycorgis' 3548\n",
        "'kobebryant' 426\n",
        "'threecorgis' 6599 fail\n",
        "'milperthusky' 1983\n",
        "'mrbentley_thedog' 1593\n",
        "'paulnicklen' 2693\n",
        "'theellenfund' 606\n",
        "'penguinstothepeople' 812\n",
        "'scott.portelli' 591\n",
        "'jayclue' 730\n",
        "'growingannanas' 1101 fail\n",
        "'rix.official'1595 fail\n",
        "'progressive_calisthenics' 1036\n",
        "'kingjames' 2184\n",
        "'stephencurry30' 952\n",
        "'russwest44' 1296\n",
        "'danny_macaskill' 1413\n",
        "'samkolder' 494\n",
        "'obrissy' 112\n",
        "'mohitknack' 503\n",
        "'claire_desjardins_art' 4812\n",
        "'wildnove_watercolor' 179\n",
        "'ellendevitafineart' 66\n",
        "'mesabree' 759\n",
        "'madelynthemaker' 1258\n",
        "'design.o.art' 38\n",
        "'thattorih' 1134\n",
        "'beddigraphy' 20\n",
        "'aandfs.studio' 157\n",
        "'kicsneb.arts' 21\n",
        "'vanossinstagram' 191\n",
        "'wildcat_official' 414\n",
        "'daithiden0gla' 936\n",
        "'selenityy' 336\n",
        "'brawlstars_emp' 824\n",
        "'snaxgaming' 295\n",
        "'ig_jonathangaming' 144\n",
        "'scoutop' 777\n",
        "'ig_mortal' 517\n",
        "'cnn' 9659\n",
        "'nasa' 3169\n",
        "'bbcnews' 12823\n",
        "'ted'\n",
        "'tededucation'\n",
        "'jerryscience'\n",
        "'astrodaily1'\n",
        "'cosmosopedia'\n",
        "'spacex.club'\n",
        "'everything.astronomy'\n",
        "'thecosmicdivers_'\n",
        "'thedailygalactic'\n",
        "'brandoncorder'\n",
        "'galeriolahragastore'\n",
        "'veganiina'\n",
        "'picklesandwine'\n",
        "'re.coomiendo'\n",
        "'thewoksoflife'\n",
        "'drinkingwithkomo'\n",
        "'shesalreadybooked'\n",
        "'natgeo'\n",
        "'natgeotravel'"
      ],
      "execution_count": null,
      "outputs": []
    },
    {
      "cell_type": "code",
      "metadata": {
        "colab": {
          "base_uri": "https://localhost:8080/"
        },
        "id": "kHRxSXf6gXJy",
        "outputId": "ca9a44dc-68ea-434f-a17e-7fa7911c9bc6"
      },
      "source": [
        "getData('carolinegirvan')"
      ],
      "execution_count": null,
      "outputs": [
        {
          "output_type": "stream",
          "text": [
            "\n",
            "- carolinegirvan\n",
            "有 122 則\n",
            "( 12 , 12 ), ( 62 , 62 ), ( 112 , 112 ), ( 162 , 122 ), "
          ],
          "name": "stdout"
        }
      ]
    },
    {
      "cell_type": "code",
      "metadata": {
        "colab": {
          "base_uri": "https://localhost:8080/"
        },
        "id": "JVOwo-1-l0i9",
        "outputId": "5a013943-258f-4857-befe-bb70b2727320"
      },
      "source": [
        "getData('bootycorgis')"
      ],
      "execution_count": null,
      "outputs": [
        {
          "output_type": "stream",
          "text": [
            "\n",
            "- bootycorgis\n",
            "有 3548 則\n",
            "( 12 , 134 ), ( 62 , 184 ), ( 112 , 234 ), ( 162 , 284 ), ( 212 , 334 ), ( 262 , 384 ), ( 312 , 434 ), ( 362 , 484 ), ( 412 , 534 ), ( 462 , 584 ), ( 512 , 634 ), ( 562 , 684 ), ( 612 , 734 ), ( 662 , 784 ), ( 712 , 834 ), ( 762 , 884 ), ( 812 , 934 ), ( 862 , 984 ), ( 912 , 1034 ), ( 962 , 1084 ), ( 1012 , 1134 ), "
          ],
          "name": "stdout"
        }
      ]
    },
    {
      "cell_type": "code",
      "metadata": {
        "colab": {
          "base_uri": "https://localhost:8080/"
        },
        "id": "W6kGMnFNh7DB",
        "outputId": "dee22491-aa3f-4401-c7ba-38656360906c"
      },
      "source": [
        "getData('kobebryant')"
      ],
      "execution_count": null,
      "outputs": [
        {
          "output_type": "stream",
          "text": [
            "\n",
            "- kobebryant\n",
            "有 426 則\n",
            "edge is Null\n",
            "edge is Null\n",
            "edge is Null\n",
            "( 12 , 1143 ), edge is Null\n",
            "edge is Null\n",
            "edge is Null\n",
            "( 62 , 1190 ), edge is Null\n",
            "( 112 , 1239 ), edge is Null\n",
            "edge is Null\n",
            "edge is Null\n",
            "edge is Null\n",
            "edge is Null\n",
            "edge is Null\n",
            "edge is Null\n",
            "( 162 , 1282 ), ( 212 , 1332 ), ( 262 , 1382 ), edge is Null\n",
            "( 312 , 1431 ), edge is Null\n",
            "( 362 , 1480 ), ( 412 , 1530 ), ( 462 , 1544 ), "
          ],
          "name": "stdout"
        }
      ]
    },
    {
      "cell_type": "code",
      "metadata": {
        "colab": {
          "base_uri": "https://localhost:8080/"
        },
        "id": "fPa1QKTgl3QU",
        "outputId": "5cbda3cb-c964-4e89-9f35-12987a6bf461"
      },
      "source": [
        "getData('threecorgis')"
      ],
      "execution_count": null,
      "outputs": [
        {
          "output_type": "stream",
          "text": [
            "\n",
            "- threecorgis\n",
            "有 6599 則\n",
            "( 12 , 1556 ), ( 62 , 1606 ), ( 112 , 1656 ), ( 162 , 1706 ), edge is Null\n",
            "edge is Null\n",
            "( 212 , 1754 ), ( 262 , 1804 ), ( 312 , 1854 ), ( 362 , 1904 ), ( 412 , 1954 ), ( 462 , 2004 ), ( 512 , 2054 ), ( 562 , 2104 ), ( 612 , 2154 ), ( 662 , 2204 ), ( 712 , 2254 ), ( 762 , 2304 ), ( 812 , 2354 ), ( 862 , 2404 ), ( 912 , 2454 ), ( 962 , 2504 ), ( 1012 , 2554 ), "
          ],
          "name": "stdout"
        }
      ]
    },
    {
      "cell_type": "code",
      "metadata": {
        "colab": {
          "base_uri": "https://localhost:8080/"
        },
        "id": "pJz6RX3Nil1d",
        "outputId": "d4bf8f6b-35d2-4bfb-b79f-79374063e09f"
      },
      "source": [
        "getData('milperthusky')"
      ],
      "execution_count": null,
      "outputs": [
        {
          "output_type": "stream",
          "text": [
            "\n",
            "- milperthusky\n",
            "有 1983 則\n",
            "( 12 , 2566 ), ( 62 , 2616 ), ( 112 , 2666 ), ( 162 , 2716 ), ( 212 , 2766 ), ( 262 , 2816 ), ( 312 , 2866 ), ( 362 , 2916 ), ( 412 , 2966 ), ( 462 , 3016 ), ( 512 , 3066 ), ( 562 , 3116 ), ( 612 , 3166 ), ( 662 , 3216 ), ( 712 , 3266 ), ( 762 , 3316 ), ( 812 , 3366 ), ( 862 , 3416 ), ( 912 , 3466 ), ( 962 , 3516 ), ( 1012 , 3566 ), "
          ],
          "name": "stdout"
        }
      ]
    },
    {
      "cell_type": "code",
      "metadata": {
        "colab": {
          "base_uri": "https://localhost:8080/"
        },
        "id": "cj462e9fiyqA",
        "outputId": "adade618-9d98-4fb5-dfea-1b42382e59d0"
      },
      "source": [
        "getData('mrbentley_thedog')"
      ],
      "execution_count": null,
      "outputs": [
        {
          "output_type": "stream",
          "text": [
            "\n",
            "- mrbentley_thedog\n",
            "有 1593 則\n",
            "( 12 , 3578 ), ( 62 , 3628 ), ( 112 , 3678 ), ( 162 , 3728 ), ( 212 , 3778 ), ( 262 , 3828 ), ( 312 , 3878 ), ( 362 , 3928 ), ( 412 , 3978 ), ( 462 , 4028 ), ( 512 , 4078 ), ( 562 , 4128 ), ( 612 , 4178 ), ( 662 , 4228 ), ( 712 , 4278 ), ( 762 , 4328 ), ( 812 , 4378 ), ( 862 , 4428 ), ( 912 , 4478 ), ( 962 , 4528 ), ( 1012 , 4578 ), "
          ],
          "name": "stdout"
        }
      ]
    },
    {
      "cell_type": "code",
      "metadata": {
        "colab": {
          "base_uri": "https://localhost:8080/"
        },
        "id": "OQuTl48mi8T2",
        "outputId": "c09a9424-306b-45f6-c9ba-26501db25ec2"
      },
      "source": [
        "getData('paulnicklen')"
      ],
      "execution_count": null,
      "outputs": [
        {
          "output_type": "stream",
          "text": [
            "\n",
            "- paulnicklen\n",
            "有 2693 則\n",
            "( 12 , 4590 ), ( 62 , 4640 ), ( 112 , 4690 ), ( 162 , 4740 ), ( 212 , 4790 ), ( 262 , 4840 ), ( 312 , 4890 ), ( 362 , 4940 ), ( 412 , 4990 ), ( 462 , 5040 ), ( 512 , 5090 ), ( 562 , 5140 ), ( 612 , 5190 ), ( 662 , 5240 ), ( 712 , 5290 ), ( 762 , 5340 ), ( 812 , 5390 ), ( 862 , 5440 ), ( 912 , 5490 ), ( 962 , 5540 ), ( 1012 , 5590 ), "
          ],
          "name": "stdout"
        }
      ]
    },
    {
      "cell_type": "code",
      "metadata": {
        "colab": {
          "base_uri": "https://localhost:8080/"
        },
        "id": "3sSirBiijL8z",
        "outputId": "0f7cc7d5-f2c6-4f9c-c02f-9c80bd15df9c"
      },
      "source": [
        "getData('theellenfund')"
      ],
      "execution_count": null,
      "outputs": [
        {
          "output_type": "stream",
          "text": [
            "\n",
            "- theellenfund\n",
            "有 606 則\n",
            "( 12 , 5602 ), ( 62 , 5652 ), ( 112 , 5702 ), ( 162 , 5752 ), ( 212 , 5802 ), ( 262 , 5852 ), ( 312 , 5902 ), ( 362 , 5952 ), ( 412 , 6002 ), ( 462 , 6052 ), ( 512 , 6102 ), ( 562 , 6152 ), edge is Null\n",
            "edge is Null\n",
            "edge is Null\n",
            "edge is Null\n",
            "( 612 , 6192 ), "
          ],
          "name": "stdout"
        }
      ]
    },
    {
      "cell_type": "code",
      "metadata": {
        "colab": {
          "base_uri": "https://localhost:8080/"
        },
        "id": "ZNRve59RjYT6",
        "outputId": "3d59a21a-8654-4c5a-dcce-171a2d011d9f"
      },
      "source": [
        "getData('penguinstothepeople')"
      ],
      "execution_count": null,
      "outputs": [
        {
          "output_type": "stream",
          "text": [
            "\n",
            "- penguinstothepeople\n",
            "有 812 則\n",
            "( 12 , 6204 ), ( 62 , 6254 ), ( 112 , 6304 ), ( 162 , 6354 ), ( 212 , 6404 ), ( 262 , 6454 ), ( 312 , 6504 ), ( 362 , 6554 ), ( 412 , 6604 ), ( 462 , 6654 ), ( 512 , 6704 ), ( 562 , 6754 ), ( 612 , 6804 ), ( 662 , 6854 ), ( 712 , 6904 ), ( 762 , 6954 ), ( 812 , 7004 ), "
          ],
          "name": "stdout"
        }
      ]
    },
    {
      "cell_type": "code",
      "metadata": {
        "colab": {
          "base_uri": "https://localhost:8080/"
        },
        "id": "C9slyAf0jg5n",
        "outputId": "261cefd7-302b-48da-bc78-9414373610b1"
      },
      "source": [
        "getData('scott.portelli')"
      ],
      "execution_count": null,
      "outputs": [
        {
          "output_type": "stream",
          "text": [
            "\n",
            "- scott.portelli\n",
            "有 591 則\n",
            "( 12 , 7016 ), ( 62 , 7066 ), ( 112 , 7116 ), ( 162 , 7166 ), ( 212 , 7216 ), ( 262 , 7266 ), ( 312 , 7316 ), ( 362 , 7366 ), ( 412 , 7416 ), ( 462 , 7466 ), ( 512 , 7516 ), ( 562 , 7566 ), ( 612 , 7595 ), "
          ],
          "name": "stdout"
        }
      ]
    },
    {
      "cell_type": "code",
      "metadata": {
        "colab": {
          "base_uri": "https://localhost:8080/"
        },
        "id": "wUYhN9eNjoff",
        "outputId": "6350f27b-ac49-4f54-81ee-71a3c270b0ba"
      },
      "source": [
        "getData('jayclue')"
      ],
      "execution_count": null,
      "outputs": [
        {
          "output_type": "stream",
          "text": [
            "\n",
            "- jayclue\n",
            "有 730 則\n",
            "( 12 , 7607 ), ( 62 , 7657 ), ( 112 , 7707 ), ( 162 , 7757 ), ( 212 , 7807 ), ( 262 , 7857 ), ( 312 , 7907 ), ( 362 , 7957 ), ( 412 , 8007 ), ( 462 , 8057 ), ( 512 , 8107 ), edge is Null\n",
            "edge is Null\n",
            "edge is Null\n",
            "edge is Null\n",
            "edge is Null\n",
            "edge is Null\n",
            "edge is Null\n",
            "( 562 , 8150 ), edge is Null\n",
            "edge is Null\n",
            "edge is Null\n",
            "edge is Null\n",
            "edge is Null\n",
            "edge is Null\n",
            "edge is Null\n",
            "edge is Null\n",
            "edge is Null\n",
            "edge is Null\n",
            "edge is Null\n",
            "edge is Null\n",
            "edge is Null\n",
            "edge is Null\n",
            "edge is Null\n",
            "edge is Null\n",
            "edge is Null\n",
            "edge is Null\n",
            "edge is Null\n",
            "edge is Null\n",
            "edge is Null\n",
            "edge is Null\n",
            "edge is Null\n",
            "edge is Null\n",
            "edge is Null\n",
            "edge is Null\n",
            "edge is Null\n",
            "edge is Null\n",
            "edge is Null\n",
            "edge is Null\n",
            "( 612 , 8170 ), edge is Null\n",
            "edge is Null\n",
            "edge is Null\n",
            "edge is Null\n",
            "edge is Null\n",
            "edge is Null\n",
            "edge is Null\n",
            "edge is Null\n",
            "edge is Null\n",
            "edge is Null\n",
            "edge is Null\n",
            "edge is Null\n",
            "edge is Null\n",
            "edge is Null\n",
            "edge is Null\n",
            "edge is Null\n",
            "edge is Null\n",
            "edge is Null\n",
            "edge is Null\n",
            "edge is Null\n",
            "edge is Null\n",
            "edge is Null\n",
            "edge is Null\n",
            "edge is Null\n",
            "edge is Null\n",
            "edge is Null\n",
            "edge is Null\n",
            "edge is Null\n",
            "edge is Null\n",
            "edge is Null\n",
            "edge is Null\n",
            "edge is Null\n",
            "edge is Null\n",
            "edge is Null\n",
            "edge is Null\n",
            "edge is Null\n",
            "edge is Null\n",
            "edge is Null\n",
            "edge is Null\n",
            "edge is Null\n",
            "edge is Null\n",
            "( 662 , 8179 ), edge is Null\n",
            "edge is Null\n",
            "edge is Null\n",
            "edge is Null\n",
            "edge is Null\n",
            "edge is Null\n",
            "edge is Null\n",
            "edge is Null\n",
            "edge is Null\n",
            "edge is Null\n",
            "edge is Null\n",
            "edge is Null\n",
            "edge is Null\n",
            "edge is Null\n",
            "edge is Null\n",
            "edge is Null\n",
            "edge is Null\n",
            "edge is Null\n",
            "edge is Null\n",
            "edge is Null\n",
            "edge is Null\n",
            "edge is Null\n",
            "edge is Null\n",
            "edge is Null\n",
            "edge is Null\n",
            "edge is Null\n",
            "edge is Null\n",
            "edge is Null\n",
            "edge is Null\n",
            "edge is Null\n",
            "edge is Null\n",
            "edge is Null\n",
            "edge is Null\n",
            "edge is Null\n",
            "edge is Null\n",
            "edge is Null\n",
            "edge is Null\n",
            "edge is Null\n",
            "edge is Null\n",
            "edge is Null\n",
            "edge is Null\n",
            "( 712 , 8188 ), edge is Null\n",
            "edge is Null\n",
            "edge is Null\n",
            "edge is Null\n",
            "edge is Null\n",
            "edge is Null\n",
            "edge is Null\n",
            "edge is Null\n",
            "edge is Null\n",
            "edge is Null\n",
            "edge is Null\n",
            "edge is Null\n",
            "edge is Null\n",
            "edge is Null\n",
            "edge is Null\n",
            "edge is Null\n",
            "( 762 , 8190 ), "
          ],
          "name": "stdout"
        }
      ]
    },
    {
      "cell_type": "code",
      "metadata": {
        "colab": {
          "base_uri": "https://localhost:8080/"
        },
        "id": "t-jb7uowjwZf",
        "outputId": "25b09eca-4a4c-4f83-8e1d-7c07a3145959"
      },
      "source": [
        "getData('growingannanas')"
      ],
      "execution_count": null,
      "outputs": [
        {
          "output_type": "stream",
          "text": [
            "\n",
            "- growingannanas\n",
            "有 1101 則\n",
            "( 12 , 8202 ), ( 62 , 8252 ), ( 112 , 8302 ), ( 162 , 8352 ), ( 212 , 8402 ), ( 262 , 8452 ), ( 312 , 8502 ), ( 362 , 8552 ), ( 412 , 8602 ), ( 462 , 8652 ), ( 512 , 8702 ), ( 562 , 8752 ), ( 612 , 8802 ), ( 662 , 8852 ), ( 712 , 8902 ), ( 762 , 8952 ), ( 812 , 9002 ), ( 862 , 9052 ), ( 912 , 9102 ), ( 962 , 9152 ), ( 1012 , 9202 ), "
          ],
          "name": "stdout"
        }
      ]
    },
    {
      "cell_type": "code",
      "metadata": {
        "colab": {
          "base_uri": "https://localhost:8080/"
        },
        "id": "0jZ2WXXgj41G",
        "outputId": "c9361344-1231-415b-bf66-91dafb4da3b2"
      },
      "source": [
        "getData('rix.official')"
      ],
      "execution_count": null,
      "outputs": [
        {
          "output_type": "stream",
          "text": [
            "\n",
            "- rix.official\n",
            "有 1595 則\n",
            "( 12 , 9214 ), ( 62 , 9264 ), edge is Null\n",
            "edge is Null\n",
            "edge is Null\n",
            "edge is Null\n",
            "( 112 , 9310 ), ( 162 , 9360 ), ( 212 , 9410 ), ( 262 , 9460 ), ( 312 , 9510 ), ( 362 , 9560 ), ( 412 , 9610 ), ( 462 , 9660 ), ( 512 , 9710 ), ( 562 , 9760 ), ( 612 , 9810 ), ( 662 , 9860 ), fail\n"
          ],
          "name": "stdout"
        }
      ]
    },
    {
      "cell_type": "code",
      "metadata": {
        "colab": {
          "base_uri": "https://localhost:8080/"
        },
        "id": "SwwR_BqNkJNm",
        "outputId": "55d19efb-baea-4e44-f9d4-3e8eb51dd564"
      },
      "source": [
        "getData('progressive_calisthenics')"
      ],
      "execution_count": null,
      "outputs": [
        {
          "output_type": "stream",
          "text": [
            "\n",
            "- progressive_calisthenics\n",
            "有 1036 則\n",
            "( 12 , 9872 ), ( 62 , 9922 ), ( 112 , 9972 ), ( 162 , 10022 ), ( 212 , 10072 ), ( 262 , 10122 ), ( 312 , 10172 ), ( 362 , 10222 ), ( 412 , 10272 ), ( 462 , 10322 ), ( 512 , 10372 ), ( 562 , 10422 ), ( 612 , 10472 ), ( 662 , 10522 ), ( 712 , 10572 ), ( 762 , 10622 ), ( 812 , 10672 ), ( 862 , 10722 ), ( 912 , 10772 ), ( 962 , 10822 ), ( 1012 , 10872 ), "
          ],
          "name": "stdout"
        }
      ]
    },
    {
      "cell_type": "code",
      "metadata": {
        "colab": {
          "base_uri": "https://localhost:8080/"
        },
        "id": "95KeF9IYl-gh",
        "outputId": "6e435e42-9c2e-4685-f9c6-ca3860cfa30e"
      },
      "source": [
        "getData('kingjames')"
      ],
      "execution_count": null,
      "outputs": [
        {
          "output_type": "stream",
          "text": [
            "\n",
            "- kingjames\n",
            "有 2184 則\n",
            "( 12 , 10884 ), ( 62 , 10934 ), edge is Null\n",
            "( 112 , 10983 ), ( 162 , 11033 ), ( 212 , 11083 ), edge is Null\n",
            "( 262 , 11132 ), ( 312 , 11182 ), ( 362 , 11232 ), ( 412 , 11282 ), ( 462 , 11332 ), ( 512 , 11382 ), ( 562 , 11432 ), ( 612 , 11482 ), ( 662 , 11532 ), ( 712 , 11582 ), edge is Null\n",
            "edge is Null\n",
            "edge is Null\n",
            "edge is Null\n",
            "edge is Null\n",
            "( 762 , 11627 ), ( 812 , 11677 ), ( 862 , 11727 ), ( 912 , 11777 ), ( 962 , 11827 ), ( 1012 , 11877 ), "
          ],
          "name": "stdout"
        }
      ]
    },
    {
      "cell_type": "code",
      "metadata": {
        "colab": {
          "base_uri": "https://localhost:8080/"
        },
        "id": "3wfRL4LQmWQH",
        "outputId": "5772ddd8-2f49-4351-d7a5-f8b951885869"
      },
      "source": [
        "getData('stephencurry30')"
      ],
      "execution_count": null,
      "outputs": [
        {
          "output_type": "stream",
          "text": [
            "\n",
            "- stephencurry30\n",
            "有 952 則\n",
            "( 12 , 11889 ), ( 62 , 11939 ), ( 112 , 11989 ), ( 162 , 12039 ), ( 212 , 12089 ), ( 262 , 12139 ), ( 312 , 12189 ), ( 362 , 12239 ), ( 412 , 12289 ), edge is Null\n",
            "( 462 , 12338 ), ( 512 , 12388 ), ( 562 , 12438 ), ( 612 , 12488 ), ( 662 , 12538 ), ( 712 , 12588 ), ( 762 , 12638 ), ( 812 , 12688 ), edge is Null\n",
            "edge is Null\n",
            "( 862 , 12736 ), ( 912 , 12786 ), ( 962 , 12825 ), "
          ],
          "name": "stdout"
        }
      ]
    },
    {
      "cell_type": "code",
      "metadata": {
        "colab": {
          "base_uri": "https://localhost:8080/"
        },
        "id": "vtaWa2xNmkOK",
        "outputId": "38411dca-b6a9-4061-bb51-75b4b80084ff"
      },
      "source": [
        "getData('russwest44')"
      ],
      "execution_count": null,
      "outputs": [
        {
          "output_type": "stream",
          "text": [
            "\n",
            "- russwest44\n",
            "有 1296 則\n",
            "( 12 , 12837 ), edge is Null\n",
            "( 62 , 12886 ), ( 112 , 12936 ), ( 162 , 12986 ), ( 212 , 13036 ), ( 262 , 13086 ), ( 312 , 13136 ), edge is Null\n",
            "( 362 , 13185 ), edge is Null\n",
            "( 412 , 13234 ), ( 462 , 13284 ), ( 512 , 13334 ), ( 562 , 13384 ), edge is Null\n",
            "edge is Null\n",
            "edge is Null\n",
            "( 612 , 13431 ), edge is Null\n",
            "( 662 , 13480 ), ( 712 , 13530 ), ( 762 , 13580 ), ( 812 , 13630 ), ( 862 , 13680 ), ( 912 , 13730 ), ( 962 , 13780 ), edge is Null\n",
            "( 1012 , 13829 ), "
          ],
          "name": "stdout"
        }
      ]
    },
    {
      "cell_type": "code",
      "metadata": {
        "colab": {
          "base_uri": "https://localhost:8080/"
        },
        "id": "fUSe2GrSm1qG",
        "outputId": "c66d779e-c781-4594-e3d6-94520ea359e0"
      },
      "source": [
        "getData('danny_macaskill')"
      ],
      "execution_count": null,
      "outputs": [
        {
          "output_type": "stream",
          "text": [
            "\n",
            "- danny_macaskill\n",
            "有 1413 則\n",
            "( 12 , 13841 ), ( 62 , 13891 ), ( 112 , 13941 ), ( 162 , 13991 ), ( 212 , 14041 ), ( 262 , 14091 ), ( 312 , 14141 ), ( 362 , 14191 ), ( 412 , 14241 ), ( 462 , 14291 ), ( 512 , 14341 ), ( 562 , 14391 ), ( 612 , 14441 ), ( 662 , 14491 ), ( 712 , 14541 ), ( 762 , 14591 ), ( 812 , 14641 ), ( 862 , 14691 ), ( 912 , 14741 ), ( 962 , 14791 ), ( 1012 , 14841 ), "
          ],
          "name": "stdout"
        }
      ]
    },
    {
      "cell_type": "code",
      "metadata": {
        "colab": {
          "base_uri": "https://localhost:8080/"
        },
        "id": "FKkMbZUZnJqO",
        "outputId": "f17345fa-9baa-4750-ef0d-0b6e5a892675"
      },
      "source": [
        "getData('samkolder')"
      ],
      "execution_count": null,
      "outputs": [
        {
          "output_type": "stream",
          "text": [
            "\n",
            "- samkolder\n",
            "有 494 則\n",
            "( 12 , 14853 ), ( 62 , 14903 ), ( 112 , 14953 ), ( 162 , 15003 ), ( 212 , 15053 ), ( 262 , 15103 ), edge is Null\n",
            "edge is Null\n",
            "( 312 , 15151 ), edge is Null\n",
            "( 362 , 15200 ), ( 412 , 15250 ), edge is Null\n",
            "edge is Null\n",
            "edge is Null\n",
            "edge is Null\n",
            "edge is Null\n",
            "edge is Null\n",
            "( 462 , 15294 ), edge is Null\n",
            "edge is Null\n",
            "edge is Null\n",
            "edge is Null\n",
            "( 512 , 15321 ), "
          ],
          "name": "stdout"
        }
      ]
    },
    {
      "cell_type": "code",
      "metadata": {
        "colab": {
          "base_uri": "https://localhost:8080/"
        },
        "id": "X9TVW5awnZZW",
        "outputId": "bde8a0e9-4bae-45bb-9e4e-15d1fb4c9819"
      },
      "source": [
        "getData('obrissy')"
      ],
      "execution_count": null,
      "outputs": [
        {
          "output_type": "stream",
          "text": [
            "\n",
            "- obrissy\n",
            "有 112 則\n",
            "( 12 , 15333 ), ( 62 , 15383 ), edge is Null\n",
            "( 112 , 15431 ), "
          ],
          "name": "stdout"
        }
      ]
    },
    {
      "cell_type": "code",
      "metadata": {
        "colab": {
          "base_uri": "https://localhost:8080/"
        },
        "id": "QcQjVZKyoB-t",
        "outputId": "95efcff6-8375-410f-cbb1-659fd83d8154"
      },
      "source": [
        "getData('mohitknack')"
      ],
      "execution_count": null,
      "outputs": [
        {
          "output_type": "stream",
          "text": [
            "\n",
            "- mohitknack\n",
            "有 503 則\n",
            "( 12 , 15443 ), ( 62 , 15493 ), ( 112 , 15543 ), ( 162 , 15593 ), ( 212 , 15643 ), edge is Null\n",
            "( 262 , 15692 ), ( 312 , 15742 ), ( 362 , 15792 ), ( 412 , 15842 ), ( 462 , 15892 ), edge is Null\n",
            "edge is Null\n",
            "edge is Null\n",
            "edge is Null\n",
            "( 512 , 15929 ), "
          ],
          "name": "stdout"
        }
      ]
    },
    {
      "cell_type": "code",
      "metadata": {
        "colab": {
          "base_uri": "https://localhost:8080/"
        },
        "id": "nfCqfYvNoGcW",
        "outputId": "83e6efce-361f-4aa2-8f48-29476de87c5e"
      },
      "source": [
        "getData('claire_desjardins_art')"
      ],
      "execution_count": null,
      "outputs": [
        {
          "output_type": "stream",
          "text": [
            "\n",
            "- claire_desjardins_art\n",
            "有 4812 則\n",
            "( 12 , 15941 ), ( 62 , 15991 ), ( 112 , 16041 ), ( 162 , 16091 ), ( 212 , 16141 ), ( 262 , 16191 ), ( 312 , 16241 ), ( 362 , 16291 ), ( 412 , 16341 ), ( 462 , 16391 ), ( 512 , 16441 ), ( 562 , 16491 ), ( 612 , 16541 ), ( 662 , 16591 ), ( 712 , 16641 ), ( 762 , 16691 ), ( 812 , 16741 ), ( 862 , 16791 ), ( 912 , 16841 ), ( 962 , 16891 ), ( 1012 , 16941 ), "
          ],
          "name": "stdout"
        }
      ]
    },
    {
      "cell_type": "code",
      "metadata": {
        "colab": {
          "base_uri": "https://localhost:8080/"
        },
        "id": "H-XSrGzlp7jY",
        "outputId": "5fc97c1f-f549-4d5e-9f5c-45ee4bc431c5"
      },
      "source": [
        "getData('wildnove_watercolor')"
      ],
      "execution_count": null,
      "outputs": [
        {
          "output_type": "stream",
          "text": [
            "\n",
            "- wildnove_watercolor\n",
            "有 179 則\n",
            "( 12 , 16953 ), ( 62 , 17003 ), ( 112 , 17053 ), ( 162 , 17103 ), ( 212 , 17120 ), "
          ],
          "name": "stdout"
        }
      ]
    },
    {
      "cell_type": "code",
      "metadata": {
        "colab": {
          "base_uri": "https://localhost:8080/"
        },
        "id": "OwVvaC8jqGnt",
        "outputId": "9388170b-a680-4fa4-87b5-2d9924d06e83"
      },
      "source": [
        "getData('ellendevitafineart')"
      ],
      "execution_count": null,
      "outputs": [
        {
          "output_type": "stream",
          "text": [
            "\n",
            "- ellendevitafineart\n",
            "有 66 則\n",
            "( 12 , 17132 ), edge is Null\n",
            "( 62 , 17181 ), ( 112 , 17185 ), "
          ],
          "name": "stdout"
        }
      ]
    },
    {
      "cell_type": "code",
      "metadata": {
        "colab": {
          "base_uri": "https://localhost:8080/"
        },
        "id": "iduQgHOMqOb6",
        "outputId": "4cc527b9-4e5d-4d91-9077-28ab3fb8aed1"
      },
      "source": [
        "getData('mesabree')"
      ],
      "execution_count": null,
      "outputs": [
        {
          "output_type": "stream",
          "text": [
            "\n",
            "- mesabree\n",
            "有 759 則\n",
            "( 12 , 17197 ), edge is Null\n",
            "edge is Null\n",
            "( 62 , 17245 ), edge is Null\n",
            "edge is Null\n",
            "edge is Null\n",
            "edge is Null\n",
            "edge is Null\n",
            "( 112 , 17290 ), edge is Null\n",
            "edge is Null\n",
            "( 162 , 17338 ), ( 212 , 17388 ), ( 262 , 17438 ), ( 312 , 17488 ), ( 362 , 17538 ), ( 412 , 17588 ), ( 462 , 17638 ), ( 512 , 17688 ), ( 562 , 17738 ), ( 612 , 17788 ), ( 662 , 17838 ), ( 712 , 17888 ), ( 762 , 17935 ), "
          ],
          "name": "stdout"
        }
      ]
    },
    {
      "cell_type": "code",
      "metadata": {
        "colab": {
          "base_uri": "https://localhost:8080/"
        },
        "id": "YrTOUtfVqWaL",
        "outputId": "340ac4d8-3361-4d02-e311-06b03af4a8d0"
      },
      "source": [
        "getData('madelynthemaker')"
      ],
      "execution_count": null,
      "outputs": [
        {
          "output_type": "stream",
          "text": [
            "\n",
            "- madelynthemaker\n",
            "有 1258 則\n",
            "( 12 , 17947 ), ( 62 , 17997 ), ( 112 , 18047 ), ( 162 , 18097 ), ( 212 , 18147 ), ( 262 , 18197 ), ( 312 , 18247 ), ( 362 , 18297 ), ( 412 , 18347 ), ( 462 , 18397 ), ( 512 , 18447 ), edge is Null\n",
            "( 562 , 18496 ), ( 612 , 18546 ), ( 662 , 18596 ), ( 712 , 18646 ), ( 762 , 18696 ), ( 812 , 18746 ), ( 862 , 18796 ), edge is Null\n",
            "edge is Null\n",
            "( 912 , 18844 ), ( 962 , 18894 ), edge is Null\n",
            "edge is Null\n",
            "edge is Null\n",
            "edge is Null\n",
            "( 1012 , 18940 ), "
          ],
          "name": "stdout"
        }
      ]
    },
    {
      "cell_type": "code",
      "metadata": {
        "colab": {
          "base_uri": "https://localhost:8080/"
        },
        "id": "1fnv6AHHqh5p",
        "outputId": "1ba2a5fb-a9a8-4d22-ef73-fa295ef0fd5e"
      },
      "source": [
        "getData('design.o.art')"
      ],
      "execution_count": null,
      "outputs": [
        {
          "output_type": "stream",
          "text": [
            "\n",
            "- design.o.art\n",
            "有 38 則\n",
            "( 12 , 18952 ), ( 62 , 18978 ), "
          ],
          "name": "stdout"
        }
      ]
    },
    {
      "cell_type": "code",
      "metadata": {
        "colab": {
          "base_uri": "https://localhost:8080/"
        },
        "id": "vSnZyJ1Kqp6I",
        "outputId": "a8a52092-9ad1-4a1f-e39a-12e728e3e553"
      },
      "source": [
        "getData('thattorih')"
      ],
      "execution_count": null,
      "outputs": [
        {
          "output_type": "stream",
          "text": [
            "\n",
            "- thattorih\n",
            "有 1134 則\n",
            "( 12 , 18990 ), ( 62 , 19040 ), ( 112 , 19090 ), ( 162 , 19140 ), ( 212 , 19190 ), ( 262 , 19240 ), ( 312 , 19290 ), ( 362 , 19340 ), ( 412 , 19390 ), ( 462 , 19440 ), ( 512 , 19490 ), ( 562 , 19540 ), ( 612 , 19590 ), ( 662 , 19640 ), ( 712 , 19690 ), edge is Null\n",
            "( 762 , 19739 ), edge is Null\n",
            "edge is Null\n",
            "( 812 , 19787 ), ( 862 , 19837 ), ( 912 , 19887 ), ( 962 , 19937 ), ( 1012 , 19987 ), "
          ],
          "name": "stdout"
        }
      ]
    },
    {
      "cell_type": "code",
      "metadata": {
        "colab": {
          "base_uri": "https://localhost:8080/"
        },
        "id": "nZI4a5jtqzVC",
        "outputId": "aa9a4b5a-9fc9-4920-f490-a7bd23a2a5bc"
      },
      "source": [
        "getData('beddigraphy')"
      ],
      "execution_count": null,
      "outputs": [
        {
          "output_type": "stream",
          "text": [
            "\n",
            "- beddigraphy\n",
            "有 20 則\n",
            "( 12 , 19999 ), ( 62 , 20007 ), "
          ],
          "name": "stdout"
        }
      ]
    },
    {
      "cell_type": "code",
      "metadata": {
        "colab": {
          "base_uri": "https://localhost:8080/"
        },
        "id": "EEJejPqYq-ah",
        "outputId": "2f45cc12-8cb5-4a64-c856-2a58d70e1e59"
      },
      "source": [
        "getData('aandfs.studio')"
      ],
      "execution_count": null,
      "outputs": [
        {
          "output_type": "stream",
          "text": [
            "\n",
            "- aandfs.studio\n",
            "有 157 則\n",
            "( 12 , 20019 ), ( 62 , 20069 ), ( 112 , 20119 ), ( 162 , 20161 ), "
          ],
          "name": "stdout"
        }
      ]
    },
    {
      "cell_type": "code",
      "metadata": {
        "colab": {
          "base_uri": "https://localhost:8080/"
        },
        "id": "Fs_3ukY7rHWU",
        "outputId": "df058a91-59f4-4363-ca02-d56c63954076"
      },
      "source": [
        "getData('kicsneb.arts')"
      ],
      "execution_count": null,
      "outputs": [
        {
          "output_type": "stream",
          "text": [
            "\n",
            "- kicsneb.arts\n",
            "有 21 則\n",
            "( 12 , 20173 ), ( 62 , 20182 ), "
          ],
          "name": "stdout"
        }
      ]
    },
    {
      "cell_type": "code",
      "metadata": {
        "colab": {
          "base_uri": "https://localhost:8080/"
        },
        "id": "gg2gr9nerSWR",
        "outputId": "6c26e367-5f92-4cea-bd68-393787ea10d0"
      },
      "source": [
        "getData('vanossinstagram')"
      ],
      "execution_count": null,
      "outputs": [
        {
          "output_type": "stream",
          "text": [
            "\n",
            "- vanossinstagram\n",
            "有 191 則\n",
            "edge is Null\n",
            "( 12 , 20193 ), edge is Null\n",
            "edge is Null\n",
            "edge is Null\n",
            "edge is Null\n",
            "( 62 , 20239 ), edge is Null\n",
            "edge is Null\n",
            "edge is Null\n",
            "edge is Null\n",
            "edge is Null\n",
            "edge is Null\n",
            "edge is Null\n",
            "( 112 , 20282 ), edge is Null\n",
            "edge is Null\n",
            "edge is Null\n",
            "edge is Null\n",
            "edge is Null\n",
            "edge is Null\n",
            "edge is Null\n",
            "edge is Null\n",
            "edge is Null\n",
            "( 162 , 20323 ), edge is Null\n",
            "edge is Null\n",
            "edge is Null\n",
            "edge is Null\n",
            "edge is Null\n",
            "edge is Null\n",
            "edge is Null\n",
            "edge is Null\n",
            "edge is Null\n",
            "edge is Null\n",
            "edge is Null\n",
            "edge is Null\n",
            "edge is Null\n",
            "edge is Null\n",
            "edge is Null\n",
            "( 212 , 20337 ), "
          ],
          "name": "stdout"
        }
      ]
    },
    {
      "cell_type": "code",
      "metadata": {
        "colab": {
          "base_uri": "https://localhost:8080/"
        },
        "id": "DE5w0_-3rfDg",
        "outputId": "0508d920-fc34-491a-a4fb-b35f4c011b2f"
      },
      "source": [
        "getData('wildcat_official')"
      ],
      "execution_count": null,
      "outputs": [
        {
          "output_type": "stream",
          "text": [
            "\n",
            "- wildcat_official\n",
            "有 414 則\n",
            "( 12 , 20349 ), edge is Null\n",
            "( 62 , 20398 ), ( 112 , 20448 ), edge is Null\n",
            "( 162 , 20497 ), edge is Null\n",
            "edge is Null\n",
            "edge is Null\n",
            "edge is Null\n",
            "( 212 , 20543 ), edge is Null\n",
            "edge is Null\n",
            "edge is Null\n",
            "( 262 , 20590 ), edge is Null\n",
            "edge is Null\n",
            "edge is Null\n",
            "edge is Null\n",
            "edge is Null\n",
            "( 312 , 20635 ), edge is Null\n",
            "( 362 , 20684 ), ( 412 , 20734 ), ( 462 , 20736 ), "
          ],
          "name": "stdout"
        }
      ]
    },
    {
      "cell_type": "code",
      "metadata": {
        "colab": {
          "base_uri": "https://localhost:8080/"
        },
        "id": "_QWYEDXfrp6W",
        "outputId": "5dff4578-9557-43e3-9b66-c00543e738b1"
      },
      "source": [
        "getData('daithiden0gla')"
      ],
      "execution_count": null,
      "outputs": [
        {
          "output_type": "stream",
          "text": [
            "\n",
            "- daithiden0gla\n",
            "有 936 則\n",
            "( 12 , 20748 ), edge is Null\n",
            "edge is Null\n",
            "edge is Null\n",
            "edge is Null\n",
            "( 62 , 20794 ), edge is Null\n",
            "( 112 , 20843 ), ( 162 , 20893 ), edge is Null\n",
            "( 212 , 20942 ), edge is Null\n",
            "( 262 , 20991 ), edge is Null\n",
            "edge is Null\n",
            "edge is Null\n",
            "edge is Null\n",
            "edge is Null\n",
            "edge is Null\n",
            "( 312 , 21035 ), edge is Null\n",
            "edge is Null\n",
            "edge is Null\n",
            "edge is Null\n",
            "( 362 , 21081 ), edge is Null\n",
            "edge is Null\n",
            "edge is Null\n",
            "edge is Null\n",
            "edge is Null\n",
            "edge is Null\n",
            "edge is Null\n",
            "edge is Null\n",
            "edge is Null\n",
            "edge is Null\n",
            "edge is Null\n",
            "edge is Null\n",
            "edge is Null\n",
            "edge is Null\n",
            "edge is Null\n",
            "edge is Null\n",
            "edge is Null\n",
            "edge is Null\n",
            "( 412 , 21113 ), edge is Null\n",
            "edge is Null\n",
            "edge is Null\n",
            "edge is Null\n",
            "edge is Null\n",
            "edge is Null\n",
            "edge is Null\n",
            "edge is Null\n",
            "edge is Null\n",
            "edge is Null\n",
            "edge is Null\n",
            "edge is Null\n",
            "edge is Null\n",
            "edge is Null\n",
            "edge is Null\n",
            "edge is Null\n",
            "edge is Null\n",
            "edge is Null\n",
            "edge is Null\n",
            "edge is Null\n",
            "edge is Null\n",
            "edge is Null\n",
            "edge is Null\n",
            "edge is Null\n",
            "edge is Null\n",
            "edge is Null\n",
            "edge is Null\n",
            "edge is Null\n",
            "edge is Null\n",
            "edge is Null\n",
            "edge is Null\n",
            "edge is Null\n",
            "edge is Null\n",
            "edge is Null\n",
            "edge is Null\n",
            "edge is Null\n",
            "edge is Null\n",
            "edge is Null\n",
            "edge is Null\n",
            "edge is Null\n",
            "edge is Null\n",
            "edge is Null\n",
            "edge is Null\n",
            "edge is Null\n",
            "edge is Null\n",
            "edge is Null\n",
            "( 462 , 21117 ), edge is Null\n",
            "edge is Null\n",
            "edge is Null\n",
            "edge is Null\n",
            "edge is Null\n",
            "edge is Null\n",
            "edge is Null\n",
            "edge is Null\n",
            "edge is Null\n",
            "edge is Null\n",
            "edge is Null\n",
            "edge is Null\n",
            "edge is Null\n",
            "edge is Null\n",
            "edge is Null\n",
            "edge is Null\n",
            "edge is Null\n",
            "edge is Null\n",
            "edge is Null\n",
            "edge is Null\n",
            "edge is Null\n",
            "edge is Null\n",
            "edge is Null\n",
            "edge is Null\n",
            "edge is Null\n",
            "edge is Null\n",
            "edge is Null\n",
            "edge is Null\n",
            "edge is Null\n",
            "edge is Null\n",
            "edge is Null\n",
            "edge is Null\n",
            "edge is Null\n",
            "( 512 , 21134 ), edge is Null\n",
            "edge is Null\n",
            "edge is Null\n",
            "edge is Null\n",
            "edge is Null\n",
            "edge is Null\n",
            "edge is Null\n",
            "edge is Null\n",
            "edge is Null\n",
            "edge is Null\n",
            "edge is Null\n",
            "edge is Null\n",
            "edge is Null\n",
            "edge is Null\n",
            "edge is Null\n",
            "edge is Null\n",
            "edge is Null\n",
            "edge is Null\n",
            "edge is Null\n",
            "edge is Null\n",
            "edge is Null\n",
            "edge is Null\n",
            "edge is Null\n",
            "edge is Null\n",
            "edge is Null\n",
            "edge is Null\n",
            "edge is Null\n",
            "edge is Null\n",
            "edge is Null\n",
            "edge is Null\n",
            "edge is Null\n",
            "edge is Null\n",
            "edge is Null\n",
            "( 562 , 21151 ), edge is Null\n",
            "edge is Null\n",
            "edge is Null\n",
            "edge is Null\n",
            "edge is Null\n",
            "edge is Null\n",
            "edge is Null\n",
            "edge is Null\n",
            "edge is Null\n",
            "edge is Null\n",
            "edge is Null\n",
            "edge is Null\n",
            "edge is Null\n",
            "edge is Null\n",
            "edge is Null\n",
            "edge is Null\n",
            "edge is Null\n",
            "edge is Null\n",
            "edge is Null\n",
            "edge is Null\n",
            "edge is Null\n",
            "( 612 , 21180 ), edge is Null\n",
            "edge is Null\n",
            "edge is Null\n",
            "edge is Null\n",
            "edge is Null\n",
            "edge is Null\n",
            "edge is Null\n",
            "edge is Null\n",
            "edge is Null\n",
            "edge is Null\n",
            "edge is Null\n",
            "edge is Null\n",
            "edge is Null\n",
            "edge is Null\n",
            "edge is Null\n",
            "edge is Null\n",
            "edge is Null\n",
            "edge is Null\n",
            "edge is Null\n",
            "edge is Null\n",
            "edge is Null\n",
            "edge is Null\n",
            "edge is Null\n",
            "edge is Null\n",
            "edge is Null\n",
            "edge is Null\n",
            "edge is Null\n",
            "edge is Null\n",
            "edge is Null\n",
            "edge is Null\n",
            "edge is Null\n",
            "edge is Null\n",
            "edge is Null\n",
            "edge is Null\n",
            "edge is Null\n",
            "( 662 , 21195 ), edge is Null\n",
            "edge is Null\n",
            "edge is Null\n",
            "edge is Null\n",
            "edge is Null\n",
            "edge is Null\n",
            "( 712 , 21239 ), edge is Null\n",
            "edge is Null\n",
            "edge is Null\n",
            "edge is Null\n",
            "edge is Null\n",
            "edge is Null\n",
            "edge is Null\n",
            "( 762 , 21282 ), ( 812 , 21332 ), edge is Null\n",
            "edge is Null\n",
            "edge is Null\n",
            "edge is Null\n",
            "( 862 , 21378 ), edge is Null\n",
            "edge is Null\n",
            "edge is Null\n",
            "edge is Null\n",
            "edge is Null\n",
            "edge is Null\n",
            "edge is Null\n",
            "( 912 , 21421 ), ( 962 , 21445 ), "
          ],
          "name": "stdout"
        }
      ]
    },
    {
      "cell_type": "code",
      "metadata": {
        "colab": {
          "base_uri": "https://localhost:8080/"
        },
        "id": "vFDXUbx3r4pM",
        "outputId": "baaf8cde-d8fa-4367-8330-b4e555644a07"
      },
      "source": [
        "getData('selenityy')"
      ],
      "execution_count": null,
      "outputs": [
        {
          "output_type": "stream",
          "text": [
            "\n",
            "- selenityy\n",
            "有 336 則\n",
            "( 12 , 21457 ), ( 62 , 21507 ), ( 112 , 21557 ), ( 162 , 21607 ), ( 212 , 21657 ), ( 262 , 21707 ), ( 312 , 21757 ), ( 362 , 21781 ), "
          ],
          "name": "stdout"
        }
      ]
    },
    {
      "cell_type": "code",
      "metadata": {
        "colab": {
          "base_uri": "https://localhost:8080/"
        },
        "id": "g-mCkJ8EsFA1",
        "outputId": "cdc8a42d-50b0-4aaa-e7ec-88bdd2bcde1c"
      },
      "source": [
        "getData('brawlstars_emp')"
      ],
      "execution_count": null,
      "outputs": [
        {
          "output_type": "stream",
          "text": [
            "\n",
            "- brawlstars_emp\n",
            "有 824 則\n",
            "( 12 , 21793 ), ( 62 , 21843 ), ( 112 , 21893 ), ( 162 , 21943 ), ( 212 , 21993 ), ( 262 , 22043 ), edge is Null\n",
            "( 312 , 22092 ), ( 362 , 22142 ), ( 412 , 22192 ), ( 462 , 22242 ), ( 512 , 22292 ), ( 562 , 22342 ), ( 612 , 22392 ), ( 662 , 22442 ), ( 712 , 22492 ), ( 762 , 22542 ), ( 812 , 22592 ), ( 862 , 22603 ), "
          ],
          "name": "stdout"
        }
      ]
    },
    {
      "cell_type": "code",
      "metadata": {
        "colab": {
          "base_uri": "https://localhost:8080/"
        },
        "id": "UPlBJXNAsM9E",
        "outputId": "4b65a74b-07b0-49b7-9a5b-8b7913ec9743"
      },
      "source": [
        "getData('snaxgaming')"
      ],
      "execution_count": null,
      "outputs": [
        {
          "output_type": "stream",
          "text": [
            "\n",
            "- snaxgaming\n",
            "有 295 則\n",
            "( 12 , 22615 ), ( 62 , 22665 ), ( 112 , 22715 ), ( 162 , 22765 ), ( 212 , 22815 ), ( 262 , 22865 ), ( 312 , 22898 ), "
          ],
          "name": "stdout"
        }
      ]
    },
    {
      "cell_type": "code",
      "metadata": {
        "colab": {
          "base_uri": "https://localhost:8080/"
        },
        "id": "k9AUGnc7sS33",
        "outputId": "3b573263-2ec0-4b3b-9243-7882b57eeadc"
      },
      "source": [
        "getData('ig_jonathangaming')"
      ],
      "execution_count": null,
      "outputs": [
        {
          "output_type": "stream",
          "text": [
            "\n",
            "- ig_jonathangaming\n",
            "有 144 則\n",
            "( 12 , 22910 ), ( 62 , 22960 ), edge is Null\n",
            "edge is Null\n",
            "( 112 , 23008 ), edge is Null\n",
            "( 162 , 23039 ), "
          ],
          "name": "stdout"
        }
      ]
    },
    {
      "cell_type": "code",
      "metadata": {
        "colab": {
          "base_uri": "https://localhost:8080/"
        },
        "id": "jWdCyr9usYMl",
        "outputId": "13ae2f6b-ee37-40ae-8c36-36e88384901a"
      },
      "source": [
        "getData('scoutop')"
      ],
      "execution_count": null,
      "outputs": [
        {
          "output_type": "stream",
          "text": [
            "\n",
            "- scoutop\n",
            "有 777 則\n",
            "( 12 , 23051 ), ( 62 , 23101 ), ( 112 , 23151 ), ( 162 , 23201 ), ( 212 , 23251 ), ( 262 , 23301 ), ( 312 , 23351 ), ( 362 , 23401 ), ( 412 , 23451 ), edge is Null\n",
            "( 462 , 23500 ), edge is Null\n",
            "edge is Null\n",
            "edge is Null\n",
            "edge is Null\n",
            "( 512 , 23546 ), ( 562 , 23596 ), edge is Null\n",
            "( 612 , 23645 ), ( 662 , 23695 ), edge is Null\n",
            "edge is Null\n",
            "edge is Null\n",
            "( 712 , 23742 ), ( 762 , 23792 ), edge is Null\n",
            "edge is Null\n",
            "edge is Null\n",
            "( 812 , 23804 ), "
          ],
          "name": "stdout"
        }
      ]
    },
    {
      "cell_type": "code",
      "metadata": {
        "colab": {
          "base_uri": "https://localhost:8080/"
        },
        "id": "tNTi-7UVsfHa",
        "outputId": "30b1cee3-bf9b-4f25-d5ed-bc70ef2fb1bd"
      },
      "source": [
        "getData('ig_mortal')"
      ],
      "execution_count": null,
      "outputs": [
        {
          "output_type": "stream",
          "text": [
            "\n",
            "- ig_mortal\n",
            "有 517 則\n",
            "( 12 , 23816 ), ( 62 , 23866 ), ( 112 , 23916 ), ( 162 , 23966 ), ( 212 , 24016 ), edge is Null\n",
            "( 262 , 24065 ), ( 312 , 24115 ), ( 362 , 24165 ), ( 412 , 24215 ), ( 462 , 24265 ), ( 512 , 24315 ), ( 562 , 24320 ), "
          ],
          "name": "stdout"
        }
      ]
    },
    {
      "cell_type": "code",
      "metadata": {
        "colab": {
          "base_uri": "https://localhost:8080/"
        },
        "id": "ydMoXccHkYlu",
        "outputId": "ae550c3b-de8f-4ef0-ea4c-f18dd902b196"
      },
      "source": [
        "getData('cnn')"
      ],
      "execution_count": null,
      "outputs": [
        {
          "output_type": "stream",
          "text": [
            "\n",
            "- cnn\n",
            "有 9659 則\n",
            "( 12 , 24332 ), ( 62 , 24382 ), ( 112 , 24432 ), ( 162 , 24482 ), ( 212 , 24532 ), ( 262 , 24582 ), ( 312 , 24632 ), ( 362 , 24682 ), ( 412 , 24732 ), ( 462 , 24782 ), ( 512 , 24832 ), ( 562 , 24882 ), ( 612 , 24932 ), ( 662 , 24982 ), ( 712 , 25032 ), ( 762 , 25082 ), ( 812 , 25132 ), ( 862 , 25182 ), ( 912 , 25232 ), ( 962 , 25282 ), ( 1012 , 25332 ), "
          ],
          "name": "stdout"
        }
      ]
    },
    {
      "cell_type": "code",
      "metadata": {
        "colab": {
          "base_uri": "https://localhost:8080/"
        },
        "id": "MY5F6XrfsyMl",
        "outputId": "30c1b1ba-3313-4d51-df05-805dfe4f81a8"
      },
      "source": [
        "getData('nasa')"
      ],
      "execution_count": null,
      "outputs": [
        {
          "output_type": "stream",
          "text": [
            "\n",
            "- nasa\n",
            "有 3169 則\n",
            "( 12 , 25344 ), ( 62 , 25394 ), ( 112 , 25444 ), ( 162 , 25494 ), ( 212 , 25544 ), ( 262 , 25594 ), ( 312 , 25644 ), ( 362 , 25694 ), ( 412 , 25744 ), ( 462 , 25794 ), ( 512 , 25844 ), ( 562 , 25894 ), ( 612 , 25944 ), ( 662 , 25994 ), ( 712 , 26044 ), ( 762 , 26094 ), ( 812 , 26144 ), ( 862 , 26194 ), ( 912 , 26244 ), ( 962 , 26294 ), ( 1012 , 26344 ), "
          ],
          "name": "stdout"
        }
      ]
    },
    {
      "cell_type": "code",
      "metadata": {
        "colab": {
          "base_uri": "https://localhost:8080/",
          "height": 375
        },
        "id": "yKDqZfx5s-aP",
        "outputId": "fc4b2bbd-d626-412b-f329-4d5e12771e64"
      },
      "source": [
        "getData('bbcnews')"
      ],
      "execution_count": null,
      "outputs": [
        {
          "output_type": "stream",
          "text": [
            "\n",
            "- bbcnews\n",
            "有 12823 則\n",
            "( 12 , 26356 ), ( 62 , 26406 ), ( 112 , 26456 ), ( 162 , 26506 ), ( 212 , 26556 ), ( 262 , 26606 ), ( 312 , 26656 ), ( 362 , 26706 ), ( 412 , 26756 ), ( 462 , 26806 ), ( 512 , 26856 ), ( 562 , 26906 ), ( 612 , 26956 ), ( 662 , 27006 ), ( 712 , 27056 ), ( 762 , 27106 ), ( 812 , 27156 ), ( 862 , 27206 ), ( 912 , 27256 ), ( 962 , 27306 ), "
          ],
          "name": "stdout"
        },
        {
          "output_type": "error",
          "ename": "JSONDecodeError",
          "evalue": "ignored",
          "traceback": [
            "\u001b[0;31m---------------------------------------------------------------------------\u001b[0m",
            "\u001b[0;31mJSONDecodeError\u001b[0m                           Traceback (most recent call last)",
            "\u001b[0;32m<ipython-input-46-41dee5f00888>\u001b[0m in \u001b[0;36m<module>\u001b[0;34m()\u001b[0m\n\u001b[0;32m----> 1\u001b[0;31m \u001b[0mgetData\u001b[0m\u001b[0;34m(\u001b[0m\u001b[0;34m'bbcnews'\u001b[0m\u001b[0;34m)\u001b[0m\u001b[0;34m\u001b[0m\u001b[0;34m\u001b[0m\u001b[0m\n\u001b[0m",
            "\u001b[0;32m<ipython-input-3-c44e99f38f64>\u001b[0m in \u001b[0;36mgetData\u001b[0;34m(account)\u001b[0m\n\u001b[1;32m     31\u001b[0m       \u001b[0;31m# cookies= {'sessionid': '1560442426%3A1SvcFb6x3RoL0f%3A27'}\u001b[0m\u001b[0;34m\u001b[0m\u001b[0;34m\u001b[0m\u001b[0;34m\u001b[0m\u001b[0m\n\u001b[1;32m     32\u001b[0m       \u001b[0mres_data\u001b[0m\u001b[0;34m=\u001b[0m \u001b[0mrequests\u001b[0m\u001b[0;34m.\u001b[0m\u001b[0mget\u001b[0m\u001b[0;34m(\u001b[0m\u001b[0murl\u001b[0m\u001b[0;34m,\u001b[0m \u001b[0mcookies\u001b[0m\u001b[0;34m=\u001b[0m \u001b[0mcookies\u001b[0m\u001b[0;34m)\u001b[0m\u001b[0;34m.\u001b[0m\u001b[0mcontent\u001b[0m\u001b[0;34m\u001b[0m\u001b[0;34m\u001b[0m\u001b[0m\n\u001b[0;32m---> 33\u001b[0;31m       \u001b[0mdata\u001b[0m\u001b[0;34m=\u001b[0m \u001b[0mjson\u001b[0m\u001b[0;34m.\u001b[0m\u001b[0mloads\u001b[0m\u001b[0;34m(\u001b[0m\u001b[0mres_data\u001b[0m\u001b[0;34m)\u001b[0m\u001b[0;34m\u001b[0m\u001b[0;34m\u001b[0m\u001b[0m\n\u001b[0m\u001b[1;32m     34\u001b[0m       \u001b[0;32mif\u001b[0m \u001b[0mdata\u001b[0m\u001b[0;34m[\u001b[0m\u001b[0;34m'status'\u001b[0m\u001b[0;34m]\u001b[0m\u001b[0;34m!=\u001b[0m \u001b[0;34m'ok'\u001b[0m\u001b[0;34m:\u001b[0m \u001b[0;31m# fail\u001b[0m\u001b[0;34m\u001b[0m\u001b[0;34m\u001b[0m\u001b[0m\n\u001b[1;32m     35\u001b[0m         \u001b[0mprint\u001b[0m\u001b[0;34m(\u001b[0m\u001b[0mdata\u001b[0m\u001b[0;34m[\u001b[0m\u001b[0;34m'status'\u001b[0m\u001b[0;34m]\u001b[0m\u001b[0;34m)\u001b[0m\u001b[0;34m\u001b[0m\u001b[0;34m\u001b[0m\u001b[0m\n",
            "\u001b[0;32m/usr/lib/python3.7/json/__init__.py\u001b[0m in \u001b[0;36mloads\u001b[0;34m(s, encoding, cls, object_hook, parse_float, parse_int, parse_constant, object_pairs_hook, **kw)\u001b[0m\n\u001b[1;32m    346\u001b[0m             \u001b[0mparse_int\u001b[0m \u001b[0;32mis\u001b[0m \u001b[0;32mNone\u001b[0m \u001b[0;32mand\u001b[0m \u001b[0mparse_float\u001b[0m \u001b[0;32mis\u001b[0m \u001b[0;32mNone\u001b[0m \u001b[0;32mand\u001b[0m\u001b[0;34m\u001b[0m\u001b[0;34m\u001b[0m\u001b[0m\n\u001b[1;32m    347\u001b[0m             parse_constant is None and object_pairs_hook is None and not kw):\n\u001b[0;32m--> 348\u001b[0;31m         \u001b[0;32mreturn\u001b[0m \u001b[0m_default_decoder\u001b[0m\u001b[0;34m.\u001b[0m\u001b[0mdecode\u001b[0m\u001b[0;34m(\u001b[0m\u001b[0ms\u001b[0m\u001b[0;34m)\u001b[0m\u001b[0;34m\u001b[0m\u001b[0;34m\u001b[0m\u001b[0m\n\u001b[0m\u001b[1;32m    349\u001b[0m     \u001b[0;32mif\u001b[0m \u001b[0mcls\u001b[0m \u001b[0;32mis\u001b[0m \u001b[0;32mNone\u001b[0m\u001b[0;34m:\u001b[0m\u001b[0;34m\u001b[0m\u001b[0;34m\u001b[0m\u001b[0m\n\u001b[1;32m    350\u001b[0m         \u001b[0mcls\u001b[0m \u001b[0;34m=\u001b[0m \u001b[0mJSONDecoder\u001b[0m\u001b[0;34m\u001b[0m\u001b[0;34m\u001b[0m\u001b[0m\n",
            "\u001b[0;32m/usr/lib/python3.7/json/decoder.py\u001b[0m in \u001b[0;36mdecode\u001b[0;34m(self, s, _w)\u001b[0m\n\u001b[1;32m    335\u001b[0m \u001b[0;34m\u001b[0m\u001b[0m\n\u001b[1;32m    336\u001b[0m         \"\"\"\n\u001b[0;32m--> 337\u001b[0;31m         \u001b[0mobj\u001b[0m\u001b[0;34m,\u001b[0m \u001b[0mend\u001b[0m \u001b[0;34m=\u001b[0m \u001b[0mself\u001b[0m\u001b[0;34m.\u001b[0m\u001b[0mraw_decode\u001b[0m\u001b[0;34m(\u001b[0m\u001b[0ms\u001b[0m\u001b[0;34m,\u001b[0m \u001b[0midx\u001b[0m\u001b[0;34m=\u001b[0m\u001b[0m_w\u001b[0m\u001b[0;34m(\u001b[0m\u001b[0ms\u001b[0m\u001b[0;34m,\u001b[0m \u001b[0;36m0\u001b[0m\u001b[0;34m)\u001b[0m\u001b[0;34m.\u001b[0m\u001b[0mend\u001b[0m\u001b[0;34m(\u001b[0m\u001b[0;34m)\u001b[0m\u001b[0;34m)\u001b[0m\u001b[0;34m\u001b[0m\u001b[0;34m\u001b[0m\u001b[0m\n\u001b[0m\u001b[1;32m    338\u001b[0m         \u001b[0mend\u001b[0m \u001b[0;34m=\u001b[0m \u001b[0m_w\u001b[0m\u001b[0;34m(\u001b[0m\u001b[0ms\u001b[0m\u001b[0;34m,\u001b[0m \u001b[0mend\u001b[0m\u001b[0;34m)\u001b[0m\u001b[0;34m.\u001b[0m\u001b[0mend\u001b[0m\u001b[0;34m(\u001b[0m\u001b[0;34m)\u001b[0m\u001b[0;34m\u001b[0m\u001b[0;34m\u001b[0m\u001b[0m\n\u001b[1;32m    339\u001b[0m         \u001b[0;32mif\u001b[0m \u001b[0mend\u001b[0m \u001b[0;34m!=\u001b[0m \u001b[0mlen\u001b[0m\u001b[0;34m(\u001b[0m\u001b[0ms\u001b[0m\u001b[0;34m)\u001b[0m\u001b[0;34m:\u001b[0m\u001b[0;34m\u001b[0m\u001b[0;34m\u001b[0m\u001b[0m\n",
            "\u001b[0;32m/usr/lib/python3.7/json/decoder.py\u001b[0m in \u001b[0;36mraw_decode\u001b[0;34m(self, s, idx)\u001b[0m\n\u001b[1;32m    353\u001b[0m             \u001b[0mobj\u001b[0m\u001b[0;34m,\u001b[0m \u001b[0mend\u001b[0m \u001b[0;34m=\u001b[0m \u001b[0mself\u001b[0m\u001b[0;34m.\u001b[0m\u001b[0mscan_once\u001b[0m\u001b[0;34m(\u001b[0m\u001b[0ms\u001b[0m\u001b[0;34m,\u001b[0m \u001b[0midx\u001b[0m\u001b[0;34m)\u001b[0m\u001b[0;34m\u001b[0m\u001b[0;34m\u001b[0m\u001b[0m\n\u001b[1;32m    354\u001b[0m         \u001b[0;32mexcept\u001b[0m \u001b[0mStopIteration\u001b[0m \u001b[0;32mas\u001b[0m \u001b[0merr\u001b[0m\u001b[0;34m:\u001b[0m\u001b[0;34m\u001b[0m\u001b[0;34m\u001b[0m\u001b[0m\n\u001b[0;32m--> 355\u001b[0;31m             \u001b[0;32mraise\u001b[0m \u001b[0mJSONDecodeError\u001b[0m\u001b[0;34m(\u001b[0m\u001b[0;34m\"Expecting value\"\u001b[0m\u001b[0;34m,\u001b[0m \u001b[0ms\u001b[0m\u001b[0;34m,\u001b[0m \u001b[0merr\u001b[0m\u001b[0;34m.\u001b[0m\u001b[0mvalue\u001b[0m\u001b[0;34m)\u001b[0m \u001b[0;32mfrom\u001b[0m \u001b[0;32mNone\u001b[0m\u001b[0;34m\u001b[0m\u001b[0;34m\u001b[0m\u001b[0m\n\u001b[0m\u001b[1;32m    356\u001b[0m         \u001b[0;32mreturn\u001b[0m \u001b[0mobj\u001b[0m\u001b[0;34m,\u001b[0m \u001b[0mend\u001b[0m\u001b[0;34m\u001b[0m\u001b[0;34m\u001b[0m\u001b[0m\n",
            "\u001b[0;31mJSONDecodeError\u001b[0m: Expecting value: line 1 column 1 (char 0)"
          ]
        }
      ]
    },
    {
      "cell_type": "code",
      "metadata": {
        "colab": {
          "base_uri": "https://localhost:8080/",
          "height": 288
        },
        "id": "a0sej_YBtIEw",
        "outputId": "5b88d121-1885-41be-bd1d-dabcb6ab36cf"
      },
      "source": [
        "getData('ted')"
      ],
      "execution_count": null,
      "outputs": [
        {
          "output_type": "error",
          "ename": "JSONDecodeError",
          "evalue": "ignored",
          "traceback": [
            "\u001b[0;31m---------------------------------------------------------------------------\u001b[0m",
            "\u001b[0;31mJSONDecodeError\u001b[0m                           Traceback (most recent call last)",
            "\u001b[0;32m<ipython-input-48-2bec08561eeb>\u001b[0m in \u001b[0;36m<module>\u001b[0;34m()\u001b[0m\n\u001b[0;32m----> 1\u001b[0;31m \u001b[0mgetData\u001b[0m\u001b[0;34m(\u001b[0m\u001b[0;34m'ted'\u001b[0m\u001b[0;34m)\u001b[0m\u001b[0;34m\u001b[0m\u001b[0;34m\u001b[0m\u001b[0m\n\u001b[0m",
            "\u001b[0;32m<ipython-input-3-c44e99f38f64>\u001b[0m in \u001b[0;36mgetData\u001b[0;34m(account)\u001b[0m\n\u001b[1;32m      4\u001b[0m   \u001b[0mcookies\u001b[0m\u001b[0;34m=\u001b[0m \u001b[0;34m{\u001b[0m\u001b[0;34m'sessionid'\u001b[0m\u001b[0;34m:\u001b[0m \u001b[0;34m'1560442426%3Ap4W9r8WsBfbXf7%3A23'\u001b[0m\u001b[0;34m}\u001b[0m \u001b[0;31m# 複製cookie，修改sessionid\u001b[0m\u001b[0;34m\u001b[0m\u001b[0;34m\u001b[0m\u001b[0m\n\u001b[1;32m      5\u001b[0m   \u001b[0mres_data\u001b[0m\u001b[0;34m=\u001b[0m \u001b[0mrequests\u001b[0m\u001b[0;34m.\u001b[0m\u001b[0mget\u001b[0m\u001b[0;34m(\u001b[0m\u001b[0murl\u001b[0m\u001b[0;34m,\u001b[0m \u001b[0mcookies\u001b[0m\u001b[0;34m=\u001b[0m \u001b[0mcookies\u001b[0m\u001b[0;34m)\u001b[0m\u001b[0;34m.\u001b[0m\u001b[0mcontent\u001b[0m\u001b[0;34m\u001b[0m\u001b[0;34m\u001b[0m\u001b[0m\n\u001b[0;32m----> 6\u001b[0;31m   \u001b[0mdata\u001b[0m\u001b[0;34m=\u001b[0m \u001b[0mjson\u001b[0m\u001b[0;34m.\u001b[0m\u001b[0mloads\u001b[0m\u001b[0;34m(\u001b[0m\u001b[0mres_data\u001b[0m\u001b[0;34m)\u001b[0m\u001b[0;34m\u001b[0m\u001b[0;34m\u001b[0m\u001b[0m\n\u001b[0m\u001b[1;32m      7\u001b[0m \u001b[0;34m\u001b[0m\u001b[0m\n\u001b[1;32m      8\u001b[0m   \u001b[0mprint\u001b[0m\u001b[0;34m(\u001b[0m\u001b[0;34m'\\n-'\u001b[0m\u001b[0;34m,\u001b[0m\u001b[0maccount\u001b[0m\u001b[0;34m)\u001b[0m\u001b[0;34m\u001b[0m\u001b[0;34m\u001b[0m\u001b[0m\n",
            "\u001b[0;32m/usr/lib/python3.7/json/__init__.py\u001b[0m in \u001b[0;36mloads\u001b[0;34m(s, encoding, cls, object_hook, parse_float, parse_int, parse_constant, object_pairs_hook, **kw)\u001b[0m\n\u001b[1;32m    346\u001b[0m             \u001b[0mparse_int\u001b[0m \u001b[0;32mis\u001b[0m \u001b[0;32mNone\u001b[0m \u001b[0;32mand\u001b[0m \u001b[0mparse_float\u001b[0m \u001b[0;32mis\u001b[0m \u001b[0;32mNone\u001b[0m \u001b[0;32mand\u001b[0m\u001b[0;34m\u001b[0m\u001b[0;34m\u001b[0m\u001b[0m\n\u001b[1;32m    347\u001b[0m             parse_constant is None and object_pairs_hook is None and not kw):\n\u001b[0;32m--> 348\u001b[0;31m         \u001b[0;32mreturn\u001b[0m \u001b[0m_default_decoder\u001b[0m\u001b[0;34m.\u001b[0m\u001b[0mdecode\u001b[0m\u001b[0;34m(\u001b[0m\u001b[0ms\u001b[0m\u001b[0;34m)\u001b[0m\u001b[0;34m\u001b[0m\u001b[0;34m\u001b[0m\u001b[0m\n\u001b[0m\u001b[1;32m    349\u001b[0m     \u001b[0;32mif\u001b[0m \u001b[0mcls\u001b[0m \u001b[0;32mis\u001b[0m \u001b[0;32mNone\u001b[0m\u001b[0;34m:\u001b[0m\u001b[0;34m\u001b[0m\u001b[0;34m\u001b[0m\u001b[0m\n\u001b[1;32m    350\u001b[0m         \u001b[0mcls\u001b[0m \u001b[0;34m=\u001b[0m \u001b[0mJSONDecoder\u001b[0m\u001b[0;34m\u001b[0m\u001b[0;34m\u001b[0m\u001b[0m\n",
            "\u001b[0;32m/usr/lib/python3.7/json/decoder.py\u001b[0m in \u001b[0;36mdecode\u001b[0;34m(self, s, _w)\u001b[0m\n\u001b[1;32m    335\u001b[0m \u001b[0;34m\u001b[0m\u001b[0m\n\u001b[1;32m    336\u001b[0m         \"\"\"\n\u001b[0;32m--> 337\u001b[0;31m         \u001b[0mobj\u001b[0m\u001b[0;34m,\u001b[0m \u001b[0mend\u001b[0m \u001b[0;34m=\u001b[0m \u001b[0mself\u001b[0m\u001b[0;34m.\u001b[0m\u001b[0mraw_decode\u001b[0m\u001b[0;34m(\u001b[0m\u001b[0ms\u001b[0m\u001b[0;34m,\u001b[0m \u001b[0midx\u001b[0m\u001b[0;34m=\u001b[0m\u001b[0m_w\u001b[0m\u001b[0;34m(\u001b[0m\u001b[0ms\u001b[0m\u001b[0;34m,\u001b[0m \u001b[0;36m0\u001b[0m\u001b[0;34m)\u001b[0m\u001b[0;34m.\u001b[0m\u001b[0mend\u001b[0m\u001b[0;34m(\u001b[0m\u001b[0;34m)\u001b[0m\u001b[0;34m)\u001b[0m\u001b[0;34m\u001b[0m\u001b[0;34m\u001b[0m\u001b[0m\n\u001b[0m\u001b[1;32m    338\u001b[0m         \u001b[0mend\u001b[0m \u001b[0;34m=\u001b[0m \u001b[0m_w\u001b[0m\u001b[0;34m(\u001b[0m\u001b[0ms\u001b[0m\u001b[0;34m,\u001b[0m \u001b[0mend\u001b[0m\u001b[0;34m)\u001b[0m\u001b[0;34m.\u001b[0m\u001b[0mend\u001b[0m\u001b[0;34m(\u001b[0m\u001b[0;34m)\u001b[0m\u001b[0;34m\u001b[0m\u001b[0;34m\u001b[0m\u001b[0m\n\u001b[1;32m    339\u001b[0m         \u001b[0;32mif\u001b[0m \u001b[0mend\u001b[0m \u001b[0;34m!=\u001b[0m \u001b[0mlen\u001b[0m\u001b[0;34m(\u001b[0m\u001b[0ms\u001b[0m\u001b[0;34m)\u001b[0m\u001b[0;34m:\u001b[0m\u001b[0;34m\u001b[0m\u001b[0;34m\u001b[0m\u001b[0m\n",
            "\u001b[0;32m/usr/lib/python3.7/json/decoder.py\u001b[0m in \u001b[0;36mraw_decode\u001b[0;34m(self, s, idx)\u001b[0m\n\u001b[1;32m    353\u001b[0m             \u001b[0mobj\u001b[0m\u001b[0;34m,\u001b[0m \u001b[0mend\u001b[0m \u001b[0;34m=\u001b[0m \u001b[0mself\u001b[0m\u001b[0;34m.\u001b[0m\u001b[0mscan_once\u001b[0m\u001b[0;34m(\u001b[0m\u001b[0ms\u001b[0m\u001b[0;34m,\u001b[0m \u001b[0midx\u001b[0m\u001b[0;34m)\u001b[0m\u001b[0;34m\u001b[0m\u001b[0;34m\u001b[0m\u001b[0m\n\u001b[1;32m    354\u001b[0m         \u001b[0;32mexcept\u001b[0m \u001b[0mStopIteration\u001b[0m \u001b[0;32mas\u001b[0m \u001b[0merr\u001b[0m\u001b[0;34m:\u001b[0m\u001b[0;34m\u001b[0m\u001b[0;34m\u001b[0m\u001b[0m\n\u001b[0;32m--> 355\u001b[0;31m             \u001b[0;32mraise\u001b[0m \u001b[0mJSONDecodeError\u001b[0m\u001b[0;34m(\u001b[0m\u001b[0;34m\"Expecting value\"\u001b[0m\u001b[0;34m,\u001b[0m \u001b[0ms\u001b[0m\u001b[0;34m,\u001b[0m \u001b[0merr\u001b[0m\u001b[0;34m.\u001b[0m\u001b[0mvalue\u001b[0m\u001b[0;34m)\u001b[0m \u001b[0;32mfrom\u001b[0m \u001b[0;32mNone\u001b[0m\u001b[0;34m\u001b[0m\u001b[0;34m\u001b[0m\u001b[0m\n\u001b[0m\u001b[1;32m    356\u001b[0m         \u001b[0;32mreturn\u001b[0m \u001b[0mobj\u001b[0m\u001b[0;34m,\u001b[0m \u001b[0mend\u001b[0m\u001b[0;34m\u001b[0m\u001b[0;34m\u001b[0m\u001b[0m\n",
            "\u001b[0;31mJSONDecodeError\u001b[0m: Expecting value: line 1 column 1 (char 0)"
          ]
        }
      ]
    },
    {
      "cell_type": "code",
      "metadata": {
        "colab": {
          "base_uri": "https://localhost:8080/",
          "height": 288
        },
        "id": "Rv1Nh9BntS5P",
        "outputId": "5b8bd5e2-cf94-4dad-fb80-c10a732b716a"
      },
      "source": [
        "getData('tededucation')"
      ],
      "execution_count": null,
      "outputs": [
        {
          "output_type": "error",
          "ename": "JSONDecodeError",
          "evalue": "ignored",
          "traceback": [
            "\u001b[0;31m---------------------------------------------------------------------------\u001b[0m",
            "\u001b[0;31mJSONDecodeError\u001b[0m                           Traceback (most recent call last)",
            "\u001b[0;32m<ipython-input-49-39e7b7f1f855>\u001b[0m in \u001b[0;36m<module>\u001b[0;34m()\u001b[0m\n\u001b[0;32m----> 1\u001b[0;31m \u001b[0mgetData\u001b[0m\u001b[0;34m(\u001b[0m\u001b[0;34m'tededucation'\u001b[0m\u001b[0;34m)\u001b[0m\u001b[0;34m\u001b[0m\u001b[0;34m\u001b[0m\u001b[0m\n\u001b[0m",
            "\u001b[0;32m<ipython-input-3-c44e99f38f64>\u001b[0m in \u001b[0;36mgetData\u001b[0;34m(account)\u001b[0m\n\u001b[1;32m      4\u001b[0m   \u001b[0mcookies\u001b[0m\u001b[0;34m=\u001b[0m \u001b[0;34m{\u001b[0m\u001b[0;34m'sessionid'\u001b[0m\u001b[0;34m:\u001b[0m \u001b[0;34m'1560442426%3Ap4W9r8WsBfbXf7%3A23'\u001b[0m\u001b[0;34m}\u001b[0m \u001b[0;31m# 複製cookie，修改sessionid\u001b[0m\u001b[0;34m\u001b[0m\u001b[0;34m\u001b[0m\u001b[0m\n\u001b[1;32m      5\u001b[0m   \u001b[0mres_data\u001b[0m\u001b[0;34m=\u001b[0m \u001b[0mrequests\u001b[0m\u001b[0;34m.\u001b[0m\u001b[0mget\u001b[0m\u001b[0;34m(\u001b[0m\u001b[0murl\u001b[0m\u001b[0;34m,\u001b[0m \u001b[0mcookies\u001b[0m\u001b[0;34m=\u001b[0m \u001b[0mcookies\u001b[0m\u001b[0;34m)\u001b[0m\u001b[0;34m.\u001b[0m\u001b[0mcontent\u001b[0m\u001b[0;34m\u001b[0m\u001b[0;34m\u001b[0m\u001b[0m\n\u001b[0;32m----> 6\u001b[0;31m   \u001b[0mdata\u001b[0m\u001b[0;34m=\u001b[0m \u001b[0mjson\u001b[0m\u001b[0;34m.\u001b[0m\u001b[0mloads\u001b[0m\u001b[0;34m(\u001b[0m\u001b[0mres_data\u001b[0m\u001b[0;34m)\u001b[0m\u001b[0;34m\u001b[0m\u001b[0;34m\u001b[0m\u001b[0m\n\u001b[0m\u001b[1;32m      7\u001b[0m \u001b[0;34m\u001b[0m\u001b[0m\n\u001b[1;32m      8\u001b[0m   \u001b[0mprint\u001b[0m\u001b[0;34m(\u001b[0m\u001b[0;34m'\\n-'\u001b[0m\u001b[0;34m,\u001b[0m\u001b[0maccount\u001b[0m\u001b[0;34m)\u001b[0m\u001b[0;34m\u001b[0m\u001b[0;34m\u001b[0m\u001b[0m\n",
            "\u001b[0;32m/usr/lib/python3.7/json/__init__.py\u001b[0m in \u001b[0;36mloads\u001b[0;34m(s, encoding, cls, object_hook, parse_float, parse_int, parse_constant, object_pairs_hook, **kw)\u001b[0m\n\u001b[1;32m    346\u001b[0m             \u001b[0mparse_int\u001b[0m \u001b[0;32mis\u001b[0m \u001b[0;32mNone\u001b[0m \u001b[0;32mand\u001b[0m \u001b[0mparse_float\u001b[0m \u001b[0;32mis\u001b[0m \u001b[0;32mNone\u001b[0m \u001b[0;32mand\u001b[0m\u001b[0;34m\u001b[0m\u001b[0;34m\u001b[0m\u001b[0m\n\u001b[1;32m    347\u001b[0m             parse_constant is None and object_pairs_hook is None and not kw):\n\u001b[0;32m--> 348\u001b[0;31m         \u001b[0;32mreturn\u001b[0m \u001b[0m_default_decoder\u001b[0m\u001b[0;34m.\u001b[0m\u001b[0mdecode\u001b[0m\u001b[0;34m(\u001b[0m\u001b[0ms\u001b[0m\u001b[0;34m)\u001b[0m\u001b[0;34m\u001b[0m\u001b[0;34m\u001b[0m\u001b[0m\n\u001b[0m\u001b[1;32m    349\u001b[0m     \u001b[0;32mif\u001b[0m \u001b[0mcls\u001b[0m \u001b[0;32mis\u001b[0m \u001b[0;32mNone\u001b[0m\u001b[0;34m:\u001b[0m\u001b[0;34m\u001b[0m\u001b[0;34m\u001b[0m\u001b[0m\n\u001b[1;32m    350\u001b[0m         \u001b[0mcls\u001b[0m \u001b[0;34m=\u001b[0m \u001b[0mJSONDecoder\u001b[0m\u001b[0;34m\u001b[0m\u001b[0;34m\u001b[0m\u001b[0m\n",
            "\u001b[0;32m/usr/lib/python3.7/json/decoder.py\u001b[0m in \u001b[0;36mdecode\u001b[0;34m(self, s, _w)\u001b[0m\n\u001b[1;32m    335\u001b[0m \u001b[0;34m\u001b[0m\u001b[0m\n\u001b[1;32m    336\u001b[0m         \"\"\"\n\u001b[0;32m--> 337\u001b[0;31m         \u001b[0mobj\u001b[0m\u001b[0;34m,\u001b[0m \u001b[0mend\u001b[0m \u001b[0;34m=\u001b[0m \u001b[0mself\u001b[0m\u001b[0;34m.\u001b[0m\u001b[0mraw_decode\u001b[0m\u001b[0;34m(\u001b[0m\u001b[0ms\u001b[0m\u001b[0;34m,\u001b[0m \u001b[0midx\u001b[0m\u001b[0;34m=\u001b[0m\u001b[0m_w\u001b[0m\u001b[0;34m(\u001b[0m\u001b[0ms\u001b[0m\u001b[0;34m,\u001b[0m \u001b[0;36m0\u001b[0m\u001b[0;34m)\u001b[0m\u001b[0;34m.\u001b[0m\u001b[0mend\u001b[0m\u001b[0;34m(\u001b[0m\u001b[0;34m)\u001b[0m\u001b[0;34m)\u001b[0m\u001b[0;34m\u001b[0m\u001b[0;34m\u001b[0m\u001b[0m\n\u001b[0m\u001b[1;32m    338\u001b[0m         \u001b[0mend\u001b[0m \u001b[0;34m=\u001b[0m \u001b[0m_w\u001b[0m\u001b[0;34m(\u001b[0m\u001b[0ms\u001b[0m\u001b[0;34m,\u001b[0m \u001b[0mend\u001b[0m\u001b[0;34m)\u001b[0m\u001b[0;34m.\u001b[0m\u001b[0mend\u001b[0m\u001b[0;34m(\u001b[0m\u001b[0;34m)\u001b[0m\u001b[0;34m\u001b[0m\u001b[0;34m\u001b[0m\u001b[0m\n\u001b[1;32m    339\u001b[0m         \u001b[0;32mif\u001b[0m \u001b[0mend\u001b[0m \u001b[0;34m!=\u001b[0m \u001b[0mlen\u001b[0m\u001b[0;34m(\u001b[0m\u001b[0ms\u001b[0m\u001b[0;34m)\u001b[0m\u001b[0;34m:\u001b[0m\u001b[0;34m\u001b[0m\u001b[0;34m\u001b[0m\u001b[0m\n",
            "\u001b[0;32m/usr/lib/python3.7/json/decoder.py\u001b[0m in \u001b[0;36mraw_decode\u001b[0;34m(self, s, idx)\u001b[0m\n\u001b[1;32m    353\u001b[0m             \u001b[0mobj\u001b[0m\u001b[0;34m,\u001b[0m \u001b[0mend\u001b[0m \u001b[0;34m=\u001b[0m \u001b[0mself\u001b[0m\u001b[0;34m.\u001b[0m\u001b[0mscan_once\u001b[0m\u001b[0;34m(\u001b[0m\u001b[0ms\u001b[0m\u001b[0;34m,\u001b[0m \u001b[0midx\u001b[0m\u001b[0;34m)\u001b[0m\u001b[0;34m\u001b[0m\u001b[0;34m\u001b[0m\u001b[0m\n\u001b[1;32m    354\u001b[0m         \u001b[0;32mexcept\u001b[0m \u001b[0mStopIteration\u001b[0m \u001b[0;32mas\u001b[0m \u001b[0merr\u001b[0m\u001b[0;34m:\u001b[0m\u001b[0;34m\u001b[0m\u001b[0;34m\u001b[0m\u001b[0m\n\u001b[0;32m--> 355\u001b[0;31m             \u001b[0;32mraise\u001b[0m \u001b[0mJSONDecodeError\u001b[0m\u001b[0;34m(\u001b[0m\u001b[0;34m\"Expecting value\"\u001b[0m\u001b[0;34m,\u001b[0m \u001b[0ms\u001b[0m\u001b[0;34m,\u001b[0m \u001b[0merr\u001b[0m\u001b[0;34m.\u001b[0m\u001b[0mvalue\u001b[0m\u001b[0;34m)\u001b[0m \u001b[0;32mfrom\u001b[0m \u001b[0;32mNone\u001b[0m\u001b[0;34m\u001b[0m\u001b[0;34m\u001b[0m\u001b[0m\n\u001b[0m\u001b[1;32m    356\u001b[0m         \u001b[0;32mreturn\u001b[0m \u001b[0mobj\u001b[0m\u001b[0;34m,\u001b[0m \u001b[0mend\u001b[0m\u001b[0;34m\u001b[0m\u001b[0;34m\u001b[0m\u001b[0m\n",
            "\u001b[0;31mJSONDecodeError\u001b[0m: Expecting value: line 1 column 1 (char 0)"
          ]
        }
      ]
    },
    {
      "cell_type": "code",
      "metadata": {
        "id": "fonzmj-stf7M"
      },
      "source": [
        "getData('jerryscience')"
      ],
      "execution_count": null,
      "outputs": []
    },
    {
      "cell_type": "code",
      "metadata": {
        "id": "I2J7RGL3t9m7"
      },
      "source": [
        "getData('astrodaily1')"
      ],
      "execution_count": null,
      "outputs": []
    },
    {
      "cell_type": "code",
      "metadata": {
        "id": "DIX7DrsFuLrS"
      },
      "source": [
        "getData('cosmosopedia')"
      ],
      "execution_count": null,
      "outputs": []
    },
    {
      "cell_type": "code",
      "metadata": {
        "id": "ewibM7aQuZAc"
      },
      "source": [
        "getData('spacex.club')"
      ],
      "execution_count": null,
      "outputs": []
    },
    {
      "cell_type": "code",
      "metadata": {
        "id": "skn5rAWqutF1"
      },
      "source": [
        "getData('everything.astronomy')"
      ],
      "execution_count": null,
      "outputs": []
    },
    {
      "cell_type": "code",
      "metadata": {
        "id": "AgfDz_L_u4tw"
      },
      "source": [
        "getData('thecosmicdivers_')"
      ],
      "execution_count": null,
      "outputs": []
    },
    {
      "cell_type": "code",
      "metadata": {
        "id": "ZlJ7tGw7vCZu"
      },
      "source": [
        "getData('thedailygalactic')"
      ],
      "execution_count": null,
      "outputs": []
    },
    {
      "cell_type": "code",
      "metadata": {
        "id": "Nec0oQhcvQE7"
      },
      "source": [
        "getData('brandoncorder')"
      ],
      "execution_count": null,
      "outputs": []
    },
    {
      "cell_type": "code",
      "metadata": {
        "id": "mCahWCUtvhsw"
      },
      "source": [
        "getData('galeriolahragastore')"
      ],
      "execution_count": null,
      "outputs": []
    },
    {
      "cell_type": "code",
      "metadata": {
        "id": "2EMOlb2svy_t"
      },
      "source": [
        "getData('veganiina')"
      ],
      "execution_count": null,
      "outputs": []
    },
    {
      "cell_type": "code",
      "metadata": {
        "id": "e4P33xk-wH0K"
      },
      "source": [
        "getData('picklesandwine')"
      ],
      "execution_count": null,
      "outputs": []
    },
    {
      "cell_type": "code",
      "metadata": {
        "id": "rYwSCZw5wXsX"
      },
      "source": [
        "getData('re.coomiendo')"
      ],
      "execution_count": null,
      "outputs": []
    },
    {
      "cell_type": "code",
      "metadata": {
        "id": "V6_k8B7WwzXa"
      },
      "source": [
        "getData('thewoksoflife')"
      ],
      "execution_count": null,
      "outputs": []
    },
    {
      "cell_type": "code",
      "metadata": {
        "id": "OwvpR53AxEny"
      },
      "source": [
        "getData('drinkingwithkomo')"
      ],
      "execution_count": null,
      "outputs": []
    },
    {
      "cell_type": "code",
      "metadata": {
        "id": "-yWazHgExQbS"
      },
      "source": [
        "getData('shesalreadybooked')"
      ],
      "execution_count": null,
      "outputs": []
    },
    {
      "cell_type": "code",
      "metadata": {
        "id": "ftfP41WYxcWj"
      },
      "source": [
        "getData('natgeo')"
      ],
      "execution_count": null,
      "outputs": []
    },
    {
      "cell_type": "code",
      "metadata": {
        "id": "CI3pWbgux5YZ"
      },
      "source": [
        "getData('natgeotravel')"
      ],
      "execution_count": null,
      "outputs": []
    },
    {
      "cell_type": "code",
      "metadata": {
        "id": "R6bBlgN5Ca2H",
        "colab": {
          "base_uri": "https://localhost:8080/",
          "height": 197
        },
        "outputId": "18a9c5d5-35db-4c91-8d2d-66f0f2d768bf"
      },
      "source": [
        "myData= dict()\n",
        "myData['post']= posts\n",
        "myData['user']= users \n",
        "\n",
        "with open('myData.json', 'w', encoding= 'UTF8') as f:\n",
        "  json.dump(myData, f, indent= 4, ensure_ascii= False) \n",
        "\n",
        "# print('總貼文數：', postSum)"
      ],
      "execution_count": null,
      "outputs": [
        {
          "output_type": "error",
          "ename": "NameError",
          "evalue": "ignored",
          "traceback": [
            "\u001b[0;31m---------------------------------------------------------------------------\u001b[0m",
            "\u001b[0;31mNameError\u001b[0m                                 Traceback (most recent call last)",
            "\u001b[0;32m<ipython-input-50-d9a1dd228499>\u001b[0m in \u001b[0;36m<module>\u001b[0;34m()\u001b[0m\n\u001b[1;32m      6\u001b[0m   \u001b[0mjson\u001b[0m\u001b[0;34m.\u001b[0m\u001b[0mdump\u001b[0m\u001b[0;34m(\u001b[0m\u001b[0mmyData\u001b[0m\u001b[0;34m,\u001b[0m \u001b[0mf\u001b[0m\u001b[0;34m,\u001b[0m \u001b[0mindent\u001b[0m\u001b[0;34m=\u001b[0m \u001b[0;36m4\u001b[0m\u001b[0;34m,\u001b[0m \u001b[0mensure_ascii\u001b[0m\u001b[0;34m=\u001b[0m \u001b[0;32mFalse\u001b[0m\u001b[0;34m)\u001b[0m\u001b[0;34m\u001b[0m\u001b[0;34m\u001b[0m\u001b[0m\n\u001b[1;32m      7\u001b[0m \u001b[0;34m\u001b[0m\u001b[0m\n\u001b[0;32m----> 8\u001b[0;31m \u001b[0mprint\u001b[0m\u001b[0;34m(\u001b[0m\u001b[0;34m'總貼文數：'\u001b[0m\u001b[0;34m,\u001b[0m \u001b[0mpostSum\u001b[0m\u001b[0;34m)\u001b[0m\u001b[0;34m\u001b[0m\u001b[0;34m\u001b[0m\u001b[0m\n\u001b[0m",
            "\u001b[0;31mNameError\u001b[0m: name 'postSum' is not defined"
          ]
        }
      ]
    },
    {
      "cell_type": "code",
      "metadata": {
        "colab": {
          "base_uri": "https://localhost:8080/"
        },
        "id": "tS_RJLBzCucs",
        "outputId": "07b7acc9-ce20-4349-f9c9-23f0cf775e76"
      },
      "source": [
        "import time # 引入time\n",
        "\n",
        "time_stamp = 1621879359 # 設定timeStamp\n",
        "struct_time = time.localtime(time_stamp) # 轉成時間元組\n",
        "timeString = time.strftime(\"%Y-%m-%d %H:%M:%S\", struct_time) # 轉成字串\n",
        "print(timeString)"
      ],
      "execution_count": null,
      "outputs": [
        {
          "output_type": "stream",
          "text": [
            "2021-05-24 18:02:39\n"
          ],
          "name": "stdout"
        }
      ]
    }
  ]
}